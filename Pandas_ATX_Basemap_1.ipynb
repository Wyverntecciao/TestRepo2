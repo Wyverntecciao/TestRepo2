{
 "cells": [
  {
   "cell_type": "code",
   "execution_count": 4,
   "id": "c3b5dbaf",
   "metadata": {},
   "outputs": [
    {
     "ename": "SyntaxError",
     "evalue": "positional argument follows keyword argument (661403708.py, line 15)",
     "output_type": "error",
     "traceback": [
      "\u001b[0;36m  File \u001b[0;32m\"/var/folders/d2/xpkyxcbd04q07qs7sln9rg980000gp/T/ipykernel_52448/661403708.py\"\u001b[0;36m, line \u001b[0;32m15\u001b[0m\n\u001b[0;31m    \u001b[0m\n\u001b[0m    ^\u001b[0m\n\u001b[0;31mSyntaxError\u001b[0m\u001b[0;31m:\u001b[0m positional argument follows keyword argument\n"
     ]
    }
   ],
   "source": [
    "#set bounding box for Austin area\n",
    "bbox = (30.564991, -97.993766, 30.081345, -97.396384)\n",
    "\n",
    "geopandas.read_file(/Users/BUNGUS/Desktop/GIS_DATA/TxDOT_Roadway_Inventory.geojson)\n",
    "\n",
    "gdf = geopandas.read_file(\n",
    "    geopandas.datasets.get_path(Users/BUNGUS/Desktop/GIS_DATA/TxDOT_Roadway_Inventory.geojson),\n",
    "    bbox=bbox,\n",
    "    \n",
    "print(gdf)\n",
    "\n",
    "\n",
    "\n",
    "\n",
    "\n"
   ]
  },
  {
   "cell_type": "code",
   "execution_count": null,
   "id": "f8192ddc",
   "metadata": {},
   "outputs": [],
   "source": []
  }
 ],
 "metadata": {
  "kernelspec": {
   "display_name": "Python 3 (ipykernel)",
   "language": "python",
   "name": "python3"
  },
  "language_info": {
   "codemirror_mode": {
    "name": "ipython",
    "version": 3
   },
   "file_extension": ".py",
   "mimetype": "text/x-python",
   "name": "python",
   "nbconvert_exporter": "python",
   "pygments_lexer": "ipython3",
   "version": "3.9.7"
  }
 },
 "nbformat": 4,
 "nbformat_minor": 5
}
