{
 "cells": [
  {
   "cell_type": "code",
   "execution_count": 4,
   "id": "c2278ec1",
   "metadata": {},
   "outputs": [
    {
     "ename": "SyntaxError",
     "evalue": "positional argument follows keyword argument (661403708.py, line 15)",
     "output_type": "error",
     "traceback": [
      "\u001b[0;36m  File \u001b[0;32m\"/var/folders/d2/xpkyxcbd04q07qs7sln9rg980000gp/T/ipykernel_52448/661403708.py\"\u001b[0;36m, line \u001b[0;32m15\u001b[0m\n\u001b[0;31m    \u001b[0m\n\u001b[0m    ^\u001b[0m\n\u001b[0;31mSyntaxError\u001b[0m\u001b[0;31m:\u001b[0m positional argument follows keyword argument\n"
     ]
    }
   ],
   "source": [
    "\n",
    "import geopandas\n",
    "\n",
    "\n",
    "\n",
    "#set bounding box for Austin area\n",
    "bbox = (30.564991, -97.993766, 30.081345, -97.396384)\n",
    "\n",
    "\n",
    "geopandas.read_file(/Users/BUNGUS/Desktop/GIS_DATA/TxDOT_Roadway_Inventory.geojson)\n",
    "\n",
    "#Austin counties:\n",
    "#Travis = 227\n",
    "#Williamson = 246\n",
    "\n",
    "txcn_travis = 227\n",
    "txcn_williamson = 246\n",
    "\n",
    "data = pd.\n",
    "\n",
    "\n",
    "\n",
    "\n",
    "\n"
   ]
  },
  {
   "cell_type": "code",
   "execution_count": null,
   "id": "500da173",
   "metadata": {},
   "outputs": [],
   "source": []
  }
 ],
 "metadata": {
  "kernelspec": {
   "display_name": "Python 3 (ipykernel)",
   "language": "python",
   "name": "python3"
  },
  "language_info": {
   "codemirror_mode": {
    "name": "ipython",
    "version": 3
   },
   "file_extension": ".py",
   "mimetype": "text/x-python",
   "name": "python",
   "nbconvert_exporter": "python",
   "pygments_lexer": "ipython3",
   "version": "3.9.7"
  }
 },
 "nbformat": 4,
 "nbformat_minor": 5
}
