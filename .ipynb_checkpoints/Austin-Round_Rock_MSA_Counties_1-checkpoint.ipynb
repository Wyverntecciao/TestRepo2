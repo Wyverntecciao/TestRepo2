{
 "cells": [
  {
   "cell_type": "code",
   "execution_count": 35,
   "id": "8a1935f0",
   "metadata": {},
   "outputs": [],
   "source": [
    "#import packages\n",
    "import pandas as pd\n",
    "\n",
    "#open CSV from folder path, create data frame with it\n",
    "df = pd.read_csv(\"/Users/BUNGUS/Desktop/GIS_DATA/TX_PHR_MSA_County_masterlist/Sheet1-Table 1.csv\")\n",
    "\n",
    "#print headers to view column names\n",
    "#print(df.head())\n",
    "\n",
    "#Rename columns using verbatim column names to find\n",
    "df.rename({\"Public Health Region (11)\":\"Public Health Region\",\n",
    "           \"Metro Area (82)\":\"Metro Area\",\n",
    "           \"Border 32 (La Paz Agreement)\":\"Border (La Paz Agreement)\",\n",
    "           }, axis=1, inplace=True)\n",
    "\n",
    "#drop last two rows with NaN/End of Worksheet values\n",
    "df.drop(df.tail(2).index, inplace=True)\n",
    "\n",
    "#df.pivot('County Name','Metropolitan Statistical Area (MSA)','Metro Area')\n",
    "\n",
    "#Filter down to Austin-Round Rock MSA counties\n",
    "ARR_MSA = df[df['Metropolitan Statistical Area (MSA)']=='Austin-Round Rock']\n",
    "\n",
    "#Export filtered counties to a .csv\n",
    "ARR_MSA.to_csv(r'/Users/BUNGUS/Desktop/GIS_DATA/ARR_MSA.csv',index=False, header=True)\n"
   ]
  },
  {
   "cell_type": "code",
   "execution_count": null,
   "id": "36e9706b",
   "metadata": {},
   "outputs": [],
   "source": []
  }
 ],
 "metadata": {
  "kernelspec": {
   "display_name": "Python 3 (ipykernel)",
   "language": "python",
   "name": "python3"
  },
  "language_info": {
   "codemirror_mode": {
    "name": "ipython",
    "version": 3
   },
   "file_extension": ".py",
   "mimetype": "text/x-python",
   "name": "python",
   "nbconvert_exporter": "python",
   "pygments_lexer": "ipython3",
   "version": "3.9.7"
  }
 },
 "nbformat": 4,
 "nbformat_minor": 5
}
