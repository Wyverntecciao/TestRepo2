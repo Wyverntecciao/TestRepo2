{
 "cells": [
  {
   "cell_type": "code",
   "execution_count": 45,
   "id": "3768503e",
   "metadata": {
    "scrolled": true
   },
   "outputs": [
    {
     "name": "stdout",
     "output_type": "stream",
     "text": [
      "Test Function Output\n"
     ]
    },
    {
     "data": {
      "text/plain": [
       "<Response [200]>"
      ]
     },
     "execution_count": 45,
     "metadata": {},
     "output_type": "execute_result"
    }
   ],
   "source": [
    "import requests\n",
    "import pandas as pd\n",
    "from requests_html import HTML\n",
    "from requests_html import HTMLSession\n",
    "\n",
    "#test function to output text\n",
    "def myfunction():\n",
    "    print(\"Test Function Output\")\n",
    "    \n",
    "myfunction()\n",
    "\n",
    "\n",
    "#function to import Austin city traffic incident feed\n",
    "\n",
    "def get_source():\n",
    "    try:\n",
    "        session = HTMLSession()\n",
    "        response = session.get(\"https://www.austintexas.gov/qact/qact_rss.cfm\")\n",
    "        return response\n",
    "        print(response)\n",
    "\n",
    "    except: requests.exceptions.RequestException\n",
    "        \n",
    "        #print(requests.exceptions.RequestException)\n",
    "\n",
    "get_source()\n"
   ]
  },
  {
   "cell_type": "code",
   "execution_count": null,
   "id": "7d59a963",
   "metadata": {},
   "outputs": [],
   "source": []
  }
 ],
 "metadata": {
  "kernelspec": {
   "display_name": "Python 3 (ipykernel)",
   "language": "python",
   "name": "python3"
  },
  "language_info": {
   "codemirror_mode": {
    "name": "ipython",
    "version": 3
   },
   "file_extension": ".py",
   "mimetype": "text/x-python",
   "name": "python",
   "nbconvert_exporter": "python",
   "pygments_lexer": "ipython3",
   "version": "3.9.7"
  }
 },
 "nbformat": 4,
 "nbformat_minor": 5
}
